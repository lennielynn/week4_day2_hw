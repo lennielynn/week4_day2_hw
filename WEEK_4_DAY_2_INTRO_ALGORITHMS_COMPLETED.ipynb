{
  "cells": [
    {
      "cell_type": "markdown",
      "metadata": {
        "id": "view-in-github",
        "colab_type": "text"
      },
      "source": [
        "<a href=\"https://colab.research.google.com/github/lennielynn/week4_day2_hw/blob/master/WEEK_4_DAY_2_INTRO_ALGORITHMS_COMPLETED.ipynb\" target=\"_parent\"><img src=\"https://colab.research.google.com/assets/colab-badge.svg\" alt=\"Open In Colab\"/></a>"
      ]
    },
    {
      "cell_type": "markdown",
      "metadata": {
        "id": "aHO8aFvAHtwM"
      },
      "source": [
        "# Classic Algorithms"
      ]
    },
    {
      "cell_type": "markdown",
      "metadata": {
        "id": "unB01V8VHtwP"
      },
      "source": [
        "## Tasks Today:\n",
        "\n",
        "1) <b>In-Place Algorithms</b> <br>\n",
        " &nbsp;&nbsp;&nbsp;&nbsp; a) Syntax <br>\n",
        " &nbsp;&nbsp;&nbsp;&nbsp; a) Out of Place Algorithm <br>\n",
        " &nbsp;&nbsp;&nbsp;&nbsp; b) In-Class Exercise #1 <br>\n",
        "2) <b>Two Pointers</b> <br>\n",
        "3) <b>Sorting Algorithms</b> <br>\n",
        "4) <b>Merge Sort</b> <br>\n",
        " &nbsp;&nbsp;&nbsp;&nbsp; a) Video on Algorithms <br>\n",
        " &nbsp;&nbsp;&nbsp;&nbsp; b) How it Works <br>\n",
        "5) <b>Exercises</b> <br>\n",
        " &nbsp;&nbsp;&nbsp;&nbsp; a) Exercise #1 - Reverse a List in Place Using an In-Place Algorithm <br>\n",
        " &nbsp;&nbsp;&nbsp;&nbsp; b) Exercise #2 - Find Distinct Words <br>\n",
        " &nbsp;&nbsp;&nbsp;&nbsp; c) Exercise #3 - Write a program to implement a Linear Search Algorithm. <br>"
      ]
    },
    {
      "cell_type": "markdown",
      "metadata": {
        "id": "nPhJhfsWHtwP"
      },
      "source": [
        "## In-Place Algorithms"
      ]
    },
    {
      "cell_type": "markdown",
      "metadata": {
        "id": "8QZpZGviHtwQ"
      },
      "source": [
        "#### Syntax"
      ]
    },
    {
      "cell_type": "code",
      "execution_count": null,
      "metadata": {
        "id": "CJhZyNG_HtwQ",
        "outputId": "04832b15-84ac-485d-c1e5-d1ee91fb5d5b"
      },
      "outputs": [
        {
          "name": "stdout",
          "output_type": "stream",
          "text": [
            "Before swap: [20, 4, 10]\n",
            "AFTER swap: [20, 10, 4]\n"
          ]
        }
      ],
      "source": [
        "# var[i],var[i + 1] = var[i + 1], var[i]\n",
        "# Sometimes known as a swap algorithm\n",
        "def swap(alist,x,y,z):\n",
        "    alist[x],alist[y],alist[z] = alist[z],alist[y],alist[x]\n",
        "    return alist\n",
        "\n",
        "my_list = [20,4,10]\n",
        "print(f\"Before swap: {my_list}\")\n",
        "\n",
        "# swap(my_list,0,1,2)\n",
        "swap(my_list,2,0,1)\n",
        "\n",
        "\n",
        "print(f\"AFTER swap: {my_list}\")"
      ]
    },
    {
      "cell_type": "markdown",
      "metadata": {
        "id": "hoqRXFlpHtwS"
      },
      "source": [
        "#### Out of Place Algorithm"
      ]
    },
    {
      "cell_type": "code",
      "execution_count": null,
      "metadata": {
        "id": "rBHzW1w0HtwS",
        "outputId": "7c9e6dff-937f-469a-c063-0f683af57c6a"
      },
      "outputs": [
        {
          "name": "stdout",
          "output_type": "stream",
          "text": [
            "[4, 10, 20]\n",
            "Before ['a', 'b', 'c', 'd']\n",
            "After ['d', 'c', 'b', 'a']\n"
          ]
        }
      ],
      "source": [
        "# not swapping, but rather reversing completely\n",
        "# BUT also copies to another place in memory\n",
        "my_list_copy = my_list[::-1]\n",
        "print(my_list_copy)\n",
        "\n",
        "array = ['a', 'b', 'c', 'd']\n",
        "new_array = ['a'] * len(array)\n",
        "\n",
        "print(\"Before\",array)\n",
        "\n",
        "length = len(array) - 1\n",
        "\n",
        "for i in range(length):\n",
        "    new_array[i] = array[length - i]\n",
        "\n",
        "array = new_array\n",
        "print(\"After\",array)\n"
      ]
    },
    {
      "cell_type": "markdown",
      "metadata": {
        "id": "a_kk-fdKHtwT"
      },
      "source": [
        "#### In-Class Exercise #1 <br>\n",
        "<p>Write a function that takes in four arguments (list, index1, index2, index3), and swaps those three positions in the list passed in.</p>"
      ]
    },
    {
      "cell_type": "code",
      "execution_count": 1,
      "metadata": {
        "id": "kreCqHPMHtwT",
        "outputId": "46326e65-18fe-4ab3-fbeb-e060820588b4",
        "colab": {
          "base_uri": "https://localhost:8080/"
        }
      },
      "outputs": [
        {
          "output_type": "stream",
          "name": "stdout",
          "text": [
            "[3, 10, 4, 8, 4, 2, 6]\n"
          ]
        }
      ],
      "source": [
        "l_1 = [10, 4, 3, 8, 4, 2, 6]\n",
        "\n",
        "def switch(lists,x,y,z):\n",
        "    lists[x],lists[y],lists[z] = lists[z],lists[x],lists[y]\n",
        "    return lists\n",
        "\n",
        "#solution 2\n",
        "def switch(lists,a,b,c,d,e):\n",
        "    lists[a],lists[b],lists[c], lists[d],lists[e] = lists[e],lists[d],lists[c],lists[b],lists[a]\n",
        "    return lists\n",
        "\n",
        "print(switch(l_1,0,1,2))"
      ]
    },
    {
      "cell_type": "markdown",
      "metadata": {
        "id": "Vvaz4WLwHtwU"
      },
      "source": [
        "## Two Pointers"
      ]
    },
    {
      "cell_type": "markdown",
      "metadata": {
        "id": "5xsq-_a3HtwU"
      },
      "source": [
        "#### Syntax"
      ]
    },
    {
      "cell_type": "code",
      "execution_count": null,
      "metadata": {
        "id": "081pOU-SHtwU",
        "outputId": "8995ab0d-82f7-4111-8e73-d564ccbf584d"
      },
      "outputs": [
        {
          "data": {
            "text/plain": [
              "[22, 11, 4, 8, 9, 12, 3, 2, 1]"
            ]
          },
          "execution_count": 6,
          "metadata": {},
          "output_type": "execute_result"
        }
      ],
      "source": [
        "# alist[left], alist[right] = alist[right],alist[left]\n",
        "#use two pointers to swap, can use a while loop in most cases\n",
        "def twoPointers(alist):\n",
        "    # Creating pointers for the list below:\n",
        "    left = 0\n",
        "    right = len(alist) - 1\n",
        "    while left <= right:\n",
        "        alist[left], alist[right] = alist[right],alist[left]\n",
        "        left += 1\n",
        "        right -= 1\n",
        "    return alist\n",
        "\n",
        "my_list2 = [1,2,3,12,9,8,4,11,22]\n",
        "twoPointers(my_list2)\n"
      ]
    },
    {
      "cell_type": "markdown",
      "metadata": {
        "id": "8PTLaS1RHtwV"
      },
      "source": [
        "#### Video of Algorithms <br>\n",
        "<p>Watch the video about algorithms.</p>\n",
        "\n",
        "https://www.youtube.com/watch?v=Q9HjeFD62Uk\n",
        "\n",
        "https://www.youtube.com/watch?v=kPRA0W1kECg\n",
        "\n",
        "https://www.youtube.com/watch?v=ZZuD6iUe3Pc"
      ]
    },
    {
      "cell_type": "markdown",
      "metadata": {
        "id": "8xK2m_sqHtwV"
      },
      "source": [
        "# Sorting Algorithms"
      ]
    },
    {
      "cell_type": "markdown",
      "metadata": {
        "id": "vZLlYfMDHtwV"
      },
      "source": [
        "#### Bubble Sort\n",
        "\n",
        "Worst Case: O(n^2) Time - O(1) Space"
      ]
    },
    {
      "cell_type": "code",
      "execution_count": null,
      "metadata": {
        "id": "aJrobp5aHtwV",
        "outputId": "7a2514ef-03d6-468e-84a0-d5d8c89610f8"
      },
      "outputs": [
        {
          "data": {
            "text/plain": [
              "[1, 22, 34, 44, 55, 66, 88, 100]"
            ]
          },
          "execution_count": 7,
          "metadata": {},
          "output_type": "execute_result"
        }
      ],
      "source": [
        "# Best Case: O(n) - Linear\n",
        "def swap(i,j, array):\n",
        "    array[i],array[j] = array[j],array[i]\n",
        "\n",
        "def bubbleSort(array):\n",
        "    isSorted = False\n",
        "    while not isSorted:\n",
        "        isSorted = True\n",
        "        for num in range(len(array) - 1):\n",
        "            if array[num] > array[num + 1]:\n",
        "                swap(num, num + 1, array)\n",
        "                isSorted = False\n",
        "    return array\n",
        "bubbleSort([22,55,88,44,1,100,34,66])"
      ]
    },
    {
      "cell_type": "markdown",
      "metadata": {
        "id": "HWg0YeDsHtwV"
      },
      "source": [
        "##### Insertion Sort\n",
        "\n",
        "Worst Case: O(n^2) time - O(1)space"
      ]
    },
    {
      "cell_type": "code",
      "execution_count": null,
      "metadata": {
        "id": "FSScsVQ-HtwV"
      },
      "outputs": [],
      "source": [
        "def swap(i,j,array):\n",
        "    array[i],array[j] = array[j],array[i]\n",
        "\n",
        "def insertionSort(array):\n",
        "    for i in range(1,len(array)):\n",
        "        j = i\n",
        "        while j > 0 and array[j] < array[j - 1]:\n",
        "            swap(j, j - 1, array)\n",
        "            j -= 1\n",
        "    return array\n",
        "\n",
        "insertionSort([22,55,88,44,1,100,34,66])"
      ]
    },
    {
      "cell_type": "markdown",
      "metadata": {
        "id": "rmsw5MmwHtwW"
      },
      "source": [
        "## Merge Sort"
      ]
    },
    {
      "cell_type": "markdown",
      "metadata": {
        "id": "QQHMWvvnHtwW"
      },
      "source": [
        "#### How it Works"
      ]
    },
    {
      "cell_type": "code",
      "execution_count": null,
      "metadata": {
        "id": "CSPRtD40HtwW",
        "outputId": "8845a111-7b6a-4df0-960a-6dfecff82cae"
      },
      "outputs": [
        {
          "name": "stdout",
          "output_type": "stream",
          "text": [
            "Splitting... [5, 10, 4, 1, 12]\n",
            "Splitting... [5, 10]\n",
            "Splitting... [5]\n",
            "Merging:  [5]\n",
            "Splitting... [10]\n",
            "Merging:  [10]\n",
            "Merging:  [5, 10]\n",
            "Splitting... [4, 1, 12]\n",
            "Splitting... [4]\n",
            "Merging:  [4]\n",
            "Splitting... [1, 12]\n",
            "Splitting... [1]\n",
            "Merging:  [1]\n",
            "Splitting... [12]\n",
            "Merging:  [12]\n",
            "Merging:  [1, 12]\n",
            "Merging:  [1, 4, 12]\n",
            "Merging:  [1, 4, 5, 10, 12]\n"
          ]
        },
        {
          "data": {
            "text/plain": [
              "[1, 4, 5, 10, 12]"
            ]
          },
          "execution_count": 8,
          "metadata": {},
          "output_type": "execute_result"
        }
      ],
      "source": [
        "# Step 1: Split everything into it's own group\n",
        "# Step 2: From left to right merge two groups together\n",
        "# Step 3: While merging, place each item in the correct position within the merged group\n",
        "# Step 4: Continue Steps 3-4 until one group is left\n",
        "\n",
        "from random import randint\n",
        "# used to generate a random list of 5 numbers from 0 to 20\n",
        "nums = [randint(0,20) for i in range(5)]\n",
        "\n",
        "# write merge sort below\n",
        "def mergeSort(alist):\n",
        "    print(\"Splitting...\", alist)\n",
        "\n",
        "    # Step 1: Divide the array into equal parts (as much as possible)\n",
        "    if len(alist) > 1:\n",
        "        mid = len(alist) // 2\n",
        "        lefthalf = alist[:mid]\n",
        "        righthalf = alist[mid:]\n",
        "\n",
        "        # recursively call mergeSort to perform splits if need\n",
        "        # Then merge once splits are done\n",
        "        mergeSort(lefthalf)\n",
        "        mergeSort(righthalf)\n",
        "\n",
        "        # index pointers for our list\n",
        "        i = 0 # pointer for left half\n",
        "        j = 0 # pointer for right half\n",
        "        k = 0 # pointer for main array\n",
        "\n",
        "        # Step 2: Compare the lefthalf and righthalf\n",
        "        while i < len(lefthalf) and j < len(righthalf):\n",
        "            if lefthalf[i] < righthalf[j]:\n",
        "                alist[k] = lefthalf[i]\n",
        "                i = i + 1\n",
        "            else:\n",
        "                alist[k] = righthalf[j]\n",
        "                j = j + 1\n",
        "            k = k + 1\n",
        "        # Step 3: While merging place items in correct position\n",
        "        while i < len(lefthalf):\n",
        "            alist[k] = lefthalf[i]\n",
        "            i = i + 1\n",
        "            k = k + 1\n",
        "        while j < len(righthalf):\n",
        "            alist[k] = righthalf[j]\n",
        "            j = j + 1\n",
        "            k = k + 1\n",
        "    print(\"Merging: \", alist)\n",
        "    return alist\n",
        "\n",
        "mergeSort(nums)"
      ]
    },
    {
      "cell_type": "markdown",
      "metadata": {
        "id": "aJ34vG4xHtwW"
      },
      "source": [
        "# Binary Search\n",
        "\n",
        "The Binary Search algorithm works by finding the number in the middle of a given array and comparing it to the target. Given that the array is sorted\n",
        "\n",
        "* The worst case run time for this algorithm is `O(log(n))`"
      ]
    },
    {
      "cell_type": "code",
      "execution_count": null,
      "metadata": {
        "id": "hAV6VOfGHtwW",
        "outputId": "3d0b83a6-0af7-49ec-e02e-03a38b31a2ce"
      },
      "outputs": [
        {
          "data": {
            "text/plain": [
              "'The index is...1'"
            ]
          },
          "execution_count": 13,
          "metadata": {},
          "output_type": "execute_result"
        }
      ],
      "source": [
        "# Less == Left\n",
        "# Greater == Right\n",
        "# List of numbers MUST be sorted\n",
        "\n",
        "def binarySearchHelperFunction(array, target, left, right):\n",
        "    while left <= right:\n",
        "        middle = (left + right) // 2\n",
        "        potentialMatch = array[middle]\n",
        "        if target == potentialMatch:\n",
        "            return f\"The index is...{middle}\"\n",
        "        elif target < potentialMatch:\n",
        "            right = middle - 1\n",
        "        else:\n",
        "            left = middle + 1\n",
        "    return -1\n",
        "\n",
        "def binarySearch(array,target):\n",
        "    return binarySearchHelperFunction(array,target,0, len(array) - 1)\n",
        "\n",
        "binarySearch([22,44,55,66,88,100],44)"
      ]
    },
    {
      "cell_type": "markdown",
      "metadata": {
        "id": "pTzjAB7wHtwX"
      },
      "source": [
        "# Exercises"
      ]
    },
    {
      "cell_type": "markdown",
      "metadata": {
        "id": "-p9SPfcCHtwX"
      },
      "source": [
        "### Exercise #1 <br>\n",
        "<p>Reverse the list below in-place using an in-place algorithm.<br>For extra credit: Reverse the strings at the same time.</p>"
      ]
    },
    {
      "cell_type": "code",
      "source": [],
      "metadata": {
        "id": "GjVSt_12F0sQ"
      },
      "execution_count": null,
      "outputs": []
    },
    {
      "cell_type": "code",
      "execution_count": 26,
      "metadata": {
        "id": "5qNxK2-BHtwX",
        "outputId": "459e8500-f92b-469e-8e28-6f75893062c8",
        "colab": {
          "base_uri": "https://localhost:8080/"
        }
      },
      "outputs": [
        {
          "output_type": "execute_result",
          "data": {
            "text/plain": [
              "['.', 'sentence', 'a', 'is', 'this']"
            ]
          },
          "metadata": {},
          "execution_count": 26
        }
      ],
      "source": [
        "words = ['this' , 'is', 'a', 'sentence', '.']\n",
        "\n",
        "def swap(alist,v,w,x,y,z):\n",
        "    alist[z],alist[y],alist[x],alist[w],alist[v] = alist[v],alist[w],alist[x],alist[y],alist[z]\n",
        "    return alist\n",
        "swap(words,0,1,2,3,4)\n",
        "# print(words[4])"
      ]
    },
    {
      "cell_type": "markdown",
      "metadata": {
        "id": "8l1wgxpuHtwX"
      },
      "source": [
        "### Exercise #2 <br>\n",
        "<p>Create a function that counts how many distinct words are in the string below, then outputs a dictionary with the words as the key and the value as the amount of times that word appears in the string.<br>Should output:<br>{'a': 5,<br>\n",
        " 'abstract': 1,<br>\n",
        " 'an': 3,<br>\n",
        " 'array': 2, ... etc...</p>"
      ]
    },
    {
      "cell_type": "code",
      "execution_count": 56,
      "metadata": {
        "id": "0GHc26pbHtwX",
        "outputId": "f705bc0a-8e72-4e90-b749-dc28fde949ce",
        "colab": {
          "base_uri": "https://localhost:8080/"
        }
      },
      "outputs": [
        {
          "output_type": "stream",
          "name": "stdout",
          "text": [
            "{'In': 1, 'computing,': 1, 'a': 4, 'hash': 4, 'table': 2, 'map': 2, 'is': 1, 'data': 2, 'structure': 2, 'which': 2, 'implements': 1, 'an': 3, 'associative': 1, 'array': 2, 'abstract': 1, 'type,': 1, 'that': 1, 'can': 2, 'keys': 1, 'to': 2, 'values.': 1, 'A': 1, 'uses': 1, 'function': 1, 'compute': 1, 'index': 1, 'into': 1, 'of': 1, 'buckets': 1, 'or': 1, 'slots': 1, 'from': 1, 'the': 1, 'desired': 1, 'value': 1, 'be': 1, 'found': 1}\n"
          ]
        }
      ],
      "source": [
        "#function that counts words in a given str\n",
        "#output will be a dictionary\n",
        "#key = word, value = amount of times word appears in given str\n",
        "#.          dict['hash'] = '5'\n",
        "\n",
        "\n",
        "a_text = 'In computing, a hash table hash map is a data structure which implements an associative array abstract data type, a structure that can map keys to values. A hash table uses a hash function to compute an index into an array of buckets or slots from which the desired value can be found'\n",
        "list = a_text.split()\n",
        "dict = {}\n",
        "def hash():\n",
        "  for w in list:\n",
        "     if list.count(w) >= 1:\n",
        "       dict[w] = list.count(w)\n",
        "  else:\n",
        "    pass\n",
        "hash()\n",
        "print(dict)\n",
        "\n"
      ]
    },
    {
      "cell_type": "markdown",
      "metadata": {
        "id": "3xdE8AG0HtwX"
      },
      "source": [
        "## Exercise #3\n",
        "\n",
        "Write a program to implement a Linear Search Algorithm. Also in a comment, write the Time Complexity of the following algorithm.\n",
        "\n",
        "#### Hint: Linear Searching will require searching a list for a given number."
      ]
    },
    {
      "cell_type": "code",
      "execution_count": 57,
      "metadata": {
        "id": "5XLuzT9IHtwY",
        "outputId": "f2d25a5d-4422-4c72-f74d-316fd1693cdd",
        "colab": {
          "base_uri": "https://localhost:8080/"
        }
      },
      "outputs": [
        {
          "output_type": "execute_result",
          "data": {
            "text/plain": [
              "-1"
            ]
          },
          "metadata": {},
          "execution_count": 57
        }
      ],
      "source": [
        "nums_list = [10,23,45,11,15]\n",
        "target = 70\n",
        "#O(n)\n",
        "def num():\n",
        "  if target in nums_list: # O(n)\n",
        "    return True # O(1)\n",
        "  else:\n",
        "    return -1 # O(1)\n",
        "num()\n",
        "\n",
        "# If number is not present return -1\n",
        ""
      ]
    },
    {
      "cell_type": "code",
      "source": [],
      "metadata": {
        "id": "rOTr0attJBu7"
      },
      "execution_count": null,
      "outputs": []
    }
  ],
  "metadata": {
    "kernelspec": {
      "display_name": "Python 3",
      "language": "python",
      "name": "python3"
    },
    "language_info": {
      "codemirror_mode": {
        "name": "ipython",
        "version": 3
      },
      "file_extension": ".py",
      "mimetype": "text/x-python",
      "name": "python",
      "nbconvert_exporter": "python",
      "pygments_lexer": "ipython3",
      "version": "3.7.6"
    },
    "colab": {
      "provenance": [],
      "toc_visible": true,
      "include_colab_link": true
    }
  },
  "nbformat": 4,
  "nbformat_minor": 0
}